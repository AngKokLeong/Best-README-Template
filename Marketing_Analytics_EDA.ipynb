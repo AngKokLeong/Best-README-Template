{
  "nbformat": 4,
  "nbformat_minor": 0,
  "metadata": {
    "colab": {
      "provenance": [],
      "machine_shape": "hm",
      "collapsed_sections": [
        "JnI3-pS6mVis",
        "K1iPs4_MmLyQ"
      ],
      "authorship_tag": "ABX9TyOSvC7S336vOoFhtYRIYLVO",
      "include_colab_link": true
    },
    "kernelspec": {
      "name": "python3",
      "display_name": "Python 3"
    },
    "language_info": {
      "name": "python"
    },
    "gpuClass": "standard",
    "accelerator": "GPU"
  },
  "cells": [
    {
      "cell_type": "markdown",
      "metadata": {
        "id": "view-in-github",
        "colab_type": "text"
      },
      "source": [
        "<a href=\"https://colab.research.google.com/github/AngKokLeong/Best-README-Template/blob/master/Marketing_Analytics_EDA.ipynb\" target=\"_parent\"><img src=\"https://colab.research.google.com/assets/colab-badge.svg\" alt=\"Open In Colab\"/></a>"
      ]
    },
    {
      "cell_type": "markdown",
      "source": [],
      "metadata": {
        "id": "H-JbO4z4mThi"
      }
    },
    {
      "cell_type": "code",
      "execution_count": null,
      "metadata": {
        "id": "hB0teZXbmOt2"
      },
      "outputs": [],
      "source": []
    },
    {
      "cell_type": "markdown",
      "source": [
        "#Environment Setup"
      ],
      "metadata": {
        "id": "JnI3-pS6mVis"
      }
    },
    {
      "cell_type": "markdown",
      "metadata": {
        "id": "EsDqrSm5Y6qM"
      },
      "source": [
        "## Ubuntu Version"
      ]
    },
    {
      "cell_type": "code",
      "metadata": {
        "id": "UYWxl68Quyv7",
        "colab": {
          "base_uri": "https://localhost:8080/"
        },
        "outputId": "261bf0d8-d65f-4190-f9a3-3b74e8b6731e"
      },
      "source": [
        "# Check Ubuntu Version\n",
        "!lsb_release -a"
      ],
      "execution_count": 6,
      "outputs": [
        {
          "output_type": "stream",
          "name": "stdout",
          "text": [
            "No LSB modules are available.\n",
            "Distributor ID:\tUbuntu\n",
            "Description:\tUbuntu 20.04.5 LTS\n",
            "Release:\t20.04\n",
            "Codename:\tfocal\n"
          ]
        }
      ]
    },
    {
      "cell_type": "markdown",
      "source": [
        "## Python Version"
      ],
      "metadata": {
        "id": "_YkYqsSWqdsh"
      }
    },
    {
      "cell_type": "code",
      "source": [
        "!python -V; pip -V"
      ],
      "metadata": {
        "colab": {
          "base_uri": "https://localhost:8080/"
        },
        "id": "EmKHcNEnkQt_",
        "outputId": "e4d2ae6f-daea-4870-feba-d234beb4c92f"
      },
      "execution_count": 7,
      "outputs": [
        {
          "output_type": "stream",
          "name": "stdout",
          "text": [
            "Python 3.8.15\n",
            "pip 22.3.1 from /usr/local/lib/python3.8/site-packages/pip (python 3.8)\n"
          ]
        }
      ]
    },
    {
      "cell_type": "markdown",
      "source": [
        "#Google Drive Setup"
      ],
      "metadata": {
        "id": "K1iPs4_MmLyQ"
      }
    },
    {
      "cell_type": "code",
      "source": [
        "#Connect Google Drive to this notebook\n",
        "from google.colab import drive\n",
        "drive.mount('/content/drive')"
      ],
      "metadata": {
        "id": "M6xVNix7mPHK",
        "colab": {
          "base_uri": "https://localhost:8080/"
        },
        "outputId": "da2f8436-df7a-46e5-bb97-8c9df24c1b32"
      },
      "execution_count": 6,
      "outputs": [
        {
          "output_type": "stream",
          "name": "stdout",
          "text": [
            "Mounted at /content/drive\n"
          ]
        }
      ]
    },
    {
      "cell_type": "markdown",
      "source": [
        "#Import Libaries"
      ],
      "metadata": {
        "id": "vT1-hUYVmPmm"
      }
    },
    {
      "cell_type": "code",
      "source": [
        "import pandas as pd\n",
        "import numpy as np\n",
        "import seaborn as sns\n",
        "\n",
        "import matplotlib.pyplot as plt\n",
        "import matplotlib.gridspec as gridspec\n",
        "\n",
        "from sklearn import datasets, ensemble\n",
        "\n",
        "%matplotlib inline\n",
        "\n",
        "from sklearn.impute import SimpleImputer\n",
        "from sklearn.preprocessing import MinMaxScaler\n",
        "\n",
        "from sklearn.model_selection import cross_val_score, KFold, train_test_split\n",
        "from sklearn.pipeline import Pipeline\n",
        "from sklearn.metrics import confusion_matrix, accuracy_score, precision_score, recall_score, average_precision_score, roc_auc_score, precision_recall_curve, roc_curve, auc, r2_score\n",
        "\n",
        "#import tensorflow as tf\n",
        "#from tensorflow import keras\n",
        "\n",
        "#from tensorflow.keras import datasets, layers, models\n",
        "#from tensorflow.keras.models import Sequential\n",
        "#from tensorflow.keras.layers import Dense\n",
        "\n",
        "# Critical imports\n",
        "\n",
        "import numpy as np\n",
        "import pandas as pd"
      ],
      "metadata": {
        "id": "UZmd2IgdnlFP"
      },
      "execution_count": 5,
      "outputs": []
    },
    {
      "cell_type": "markdown",
      "source": [],
      "metadata": {
        "id": "GncnZiQZtwc1"
      }
    },
    {
      "cell_type": "code",
      "source": [],
      "metadata": {
        "id": "V69hwGSLzSmc"
      },
      "execution_count": 8,
      "outputs": []
    }
  ]
}